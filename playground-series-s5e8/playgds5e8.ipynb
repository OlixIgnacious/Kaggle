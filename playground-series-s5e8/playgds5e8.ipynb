{
 "cells": [
  {
   "cell_type": "code",
   "execution_count": 10,
   "metadata": {},
   "outputs": [],
   "source": [
    "import pandas as pd"
   ]
  },
  {
   "cell_type": "code",
   "execution_count": 11,
   "metadata": {},
   "outputs": [],
   "source": [
    "test = pd.read_csv('test.csv')\n",
    "train = pd.read_csv('train.csv')\n"
   ]
  },
  {
   "cell_type": "code",
   "execution_count": 12,
   "metadata": {},
   "outputs": [
    {
     "name": "stdout",
     "output_type": "stream",
     "text": [
      " =============== TRAIN ================\n",
      "<class 'pandas.core.frame.DataFrame'>\n",
      "RangeIndex: 750000 entries, 0 to 749999\n",
      "Data columns (total 18 columns):\n",
      " #   Column     Non-Null Count   Dtype \n",
      "---  ------     --------------   ----- \n",
      " 0   id         750000 non-null  int64 \n",
      " 1   age        750000 non-null  int64 \n",
      " 2   job        750000 non-null  object\n",
      " 3   marital    750000 non-null  object\n",
      " 4   education  750000 non-null  object\n",
      " 5   default    750000 non-null  object\n",
      " 6   balance    750000 non-null  int64 \n",
      " 7   housing    750000 non-null  object\n",
      " 8   loan       750000 non-null  object\n",
      " 9   contact    750000 non-null  object\n",
      " 10  day        750000 non-null  int64 \n",
      " 11  month      750000 non-null  object\n",
      " 12  duration   750000 non-null  int64 \n",
      " 13  campaign   750000 non-null  int64 \n",
      " 14  pdays      750000 non-null  int64 \n",
      " 15  previous   750000 non-null  int64 \n",
      " 16  poutcome   750000 non-null  object\n",
      " 17  y          750000 non-null  int64 \n",
      "dtypes: int64(9), object(9)\n",
      "memory usage: 103.0+ MB\n",
      "None\n",
      "id           0\n",
      "age          0\n",
      "job          0\n",
      "marital      0\n",
      "education    0\n",
      "default      0\n",
      "balance      0\n",
      "housing      0\n",
      "loan         0\n",
      "contact      0\n",
      "day          0\n",
      "month        0\n",
      "duration     0\n",
      "campaign     0\n",
      "pdays        0\n",
      "previous     0\n",
      "poutcome     0\n",
      "y            0\n",
      "dtype: int64\n",
      " ======================================\n",
      " =============== TEST ================\n",
      "<class 'pandas.core.frame.DataFrame'>\n",
      "RangeIndex: 250000 entries, 0 to 249999\n",
      "Data columns (total 17 columns):\n",
      " #   Column     Non-Null Count   Dtype \n",
      "---  ------     --------------   ----- \n",
      " 0   id         250000 non-null  int64 \n",
      " 1   age        250000 non-null  int64 \n",
      " 2   job        250000 non-null  object\n",
      " 3   marital    250000 non-null  object\n",
      " 4   education  250000 non-null  object\n",
      " 5   default    250000 non-null  object\n",
      " 6   balance    250000 non-null  int64 \n",
      " 7   housing    250000 non-null  object\n",
      " 8   loan       250000 non-null  object\n",
      " 9   contact    250000 non-null  object\n",
      " 10  day        250000 non-null  int64 \n",
      " 11  month      250000 non-null  object\n",
      " 12  duration   250000 non-null  int64 \n",
      " 13  campaign   250000 non-null  int64 \n",
      " 14  pdays      250000 non-null  int64 \n",
      " 15  previous   250000 non-null  int64 \n",
      " 16  poutcome   250000 non-null  object\n",
      "dtypes: int64(8), object(9)\n",
      "memory usage: 32.4+ MB\n",
      "None\n",
      "id           0\n",
      "age          0\n",
      "job          0\n",
      "marital      0\n",
      "education    0\n",
      "default      0\n",
      "balance      0\n",
      "housing      0\n",
      "loan         0\n",
      "contact      0\n",
      "day          0\n",
      "month        0\n",
      "duration     0\n",
      "campaign     0\n",
      "pdays        0\n",
      "previous     0\n",
      "poutcome     0\n",
      "dtype: int64\n",
      " ======================================\n"
     ]
    }
   ],
   "source": [
    "print(\" =============== TRAIN ================\")\n",
    "print(train.info())\n",
    "print(train.isna().sum())\n",
    "print(\" ======================================\")\n",
    "print(\" =============== TEST ================\")\n",
    "print(test.info())\n",
    "print(test.isna().sum())\n",
    "print(\" ======================================\")"
   ]
  },
  {
   "cell_type": "markdown",
   "metadata": {},
   "source": [
    "### Data preprocessing  "
   ]
  },
  {
   "cell_type": "code",
   "execution_count": 13,
   "metadata": {},
   "outputs": [],
   "source": [
    "from sklearn.preprocessing import OneHotEncoder, OrdinalEncoder\n"
   ]
  },
  {
   "cell_type": "code",
   "execution_count": 14,
   "metadata": {},
   "outputs": [
    {
     "data": {
      "text/plain": [
       "Index(['id', 'age', 'job', 'marital', 'education', 'default', 'balance',\n",
       "       'housing', 'loan', 'contact', 'day', 'month', 'duration', 'campaign',\n",
       "       'pdays', 'previous', 'poutcome', 'y'],\n",
       "      dtype='object')"
      ]
     },
     "execution_count": 14,
     "metadata": {},
     "output_type": "execute_result"
    }
   ],
   "source": [
    "train.columns"
   ]
  },
  {
   "cell_type": "code",
   "execution_count": null,
   "metadata": {},
   "outputs": [],
   "source": []
  },
  {
   "cell_type": "code",
   "execution_count": 15,
   "metadata": {},
   "outputs": [],
   "source": [
    "# Binary categorical features mapping\n",
    "binary_map = {'yes' : 1, 'no' : 0}\n",
    "binary_columns = ['default', 'housing', 'loan']\n",
    "\n",
    "for col in binary_columns:\n",
    "    train[col] = train[col].map(binary_map)\n",
    "    test[col] = test[col].map(binary_map)\n",
    "\n",
    "# Ordinal encoding for date-related features\n",
    "month_order = ['jan', 'feb', 'mar', 'apr', 'may', 'jun', 'jul', 'aug', 'sep', 'oct', 'nov', 'dec']\n",
    "\n",
    "ord_enc = OrdinalEncoder(categories=[month_order])\n",
    "train[['month']] = ord_enc.fit_transform(train[['month']]).astype(int)\n",
    "test[['month']] = ord_enc.fit_transform(test[['month']]).astype(int)\n",
    "\n",
    "\n",
    "# One-Hot encode categorical features (excluding already encoded ones)\n",
    "\n",
    "\n",
    "\n",
    "\n"
   ]
  },
  {
   "cell_type": "code",
   "execution_count": null,
   "metadata": {},
   "outputs": [],
   "source": []
  },
  {
   "cell_type": "code",
   "execution_count": 16,
   "metadata": {},
   "outputs": [],
   "source": [
    "categorical_cols = ['job', 'marital', 'education', 'contact', 'poutcome']\n",
    "\n",
    "# Fill missing values in categorical columns\n",
    "# train[categorical_cols] = train[categorical_cols].fillna(\"missing\")\n",
    "# test[categorical_cols] = test[categorical_cols].fillna(\"missing\")\n",
    "\n",
    "# Fit the encoder on train data only\n",
    "encoder = OneHotEncoder(drop='first', handle_unknown='ignore')\n",
    "encoder.fit(train[categorical_cols])\n",
    "\n",
    "# Transform train and test data\n",
    "encoded_train = encoder.transform(train[categorical_cols])\n",
    "encoded_test = encoder.transform(test[categorical_cols])\n",
    "\n",
    "# Convert to DataFrame\n",
    "encoded_train_df = pd.DataFrame(encoded_train.toarray().astype(int), columns=encoder.get_feature_names_out(categorical_cols))\n",
    "encoded_test_df = pd.DataFrame(encoded_test.toarray().astype(int), columns=encoder.get_feature_names_out(categorical_cols))\n",
    "\n",
    "# Concatenate the encoded features with the original data\n",
    "train = pd.concat([train.reset_index(drop=True), encoded_train_df], axis=1).drop(columns=categorical_cols)\n",
    "test = pd.concat([test.reset_index(drop=True), encoded_test_df], axis=1).drop(columns=categorical_cols)"
   ]
  },
  {
   "cell_type": "code",
   "execution_count": 17,
   "metadata": {},
   "outputs": [
    {
     "name": "stdout",
     "output_type": "stream",
     "text": [
      "DataFrame shape after encoding: (750000, 34)\n",
      "Sample data:\n",
      "    id  age  default  balance  housing  loan  day  month  duration  campaign  \\\n",
      "0   0   42        0        7        0     0   25      7       117         3   \n",
      "1   1   38        0      514        0     0   18      5       185         1   \n",
      "2   2   36        0      602        1     0   14      4       111         2   \n",
      "3   3   27        0       34        1     0   28      4        10         2   \n",
      "4   4   26        0      889        1     0    3      1       902         1   \n",
      "\n",
      "   ...  marital_married  marital_single  education_secondary  \\\n",
      "0  ...                1               0                    1   \n",
      "1  ...                1               0                    1   \n",
      "2  ...                1               0                    1   \n",
      "3  ...                0               1                    1   \n",
      "4  ...                1               0                    1   \n",
      "\n",
      "   education_tertiary  education_unknown  contact_telephone  contact_unknown  \\\n",
      "0                   0                  0                  0                0   \n",
      "1                   0                  0                  0                1   \n",
      "2                   0                  0                  0                1   \n",
      "3                   0                  0                  0                1   \n",
      "4                   0                  0                  0                0   \n",
      "\n",
      "   poutcome_other  poutcome_success  poutcome_unknown  \n",
      "0               0                 0                 1  \n",
      "1               0                 0                 1  \n",
      "2               0                 0                 1  \n",
      "3               0                 0                 1  \n",
      "4               0                 0                 1  \n",
      "\n",
      "[5 rows x 34 columns]\n"
     ]
    }
   ],
   "source": [
    "# Show the final dataframe structure\n",
    "print(\"DataFrame shape after encoding:\", train.shape)\n",
    "print(\"Sample data:\\n\", train.head())"
   ]
  },
  {
   "cell_type": "code",
   "execution_count": null,
   "metadata": {},
   "outputs": [],
   "source": []
  }
 ],
 "metadata": {
  "kernelspec": {
   "display_name": "venv",
   "language": "python",
   "name": "python3"
  },
  "language_info": {
   "codemirror_mode": {
    "name": "ipython",
    "version": 3
   },
   "file_extension": ".py",
   "mimetype": "text/x-python",
   "name": "python",
   "nbconvert_exporter": "python",
   "pygments_lexer": "ipython3",
   "version": "3.13.3"
  }
 },
 "nbformat": 4,
 "nbformat_minor": 2
}
